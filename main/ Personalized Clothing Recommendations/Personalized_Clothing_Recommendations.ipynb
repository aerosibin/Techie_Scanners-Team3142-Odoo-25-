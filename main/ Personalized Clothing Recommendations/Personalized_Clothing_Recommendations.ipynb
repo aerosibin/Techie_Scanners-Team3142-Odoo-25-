{
  "nbformat": 4,
  "nbformat_minor": 0,
  "metadata": {
    "colab": {
      "provenance": []
    },
    "kernelspec": {
      "name": "python3",
      "display_name": "Python 3"
    },
    "language_info": {
      "name": "python"
    }
  },
  "cells": [
    {
      "cell_type": "code",
      "execution_count": 2,
      "metadata": {
        "colab": {
          "base_uri": "https://localhost:8080/"
        },
        "id": "mEsPvzBzgsQo",
        "outputId": "481fc456-c2d7-4a25-f2c9-d2e2e61a8b37"
      },
      "outputs": [
        {
          "output_type": "stream",
          "name": "stdout",
          "text": [
            "=== Collaborative Filtering Recommendations for User 0 ===\n",
            "Recommended from similar users: ['White Shirt', 'Summer Dress']\n",
            "\n",
            "=== Content-Based Filtering: Items Similar to 'Red Hoodie' ===\n",
            "Items similar to 'Red Hoodie':\n",
            "- Summer Dress\n",
            "- Blue Jeans\n",
            "\n",
            "=== Text-Based Recommendation: Query 'I like hoodies and winter wear' ===\n",
            "Top matches for query:\n",
            "- Red Hoodie (score: 0.65)\n",
            "- Blue Jeans (score: 0.37)\n",
            "- Summer Dress (score: 0.36)\n"
          ]
        }
      ],
      "source": [
        "from sklearn.neighbors import NearestNeighbors\n",
        "from sklearn.feature_extraction.text import TfidfVectorizer\n",
        "from sentence_transformers import SentenceTransformer, util\n",
        "import numpy as np\n",
        "\n",
        "# Simulated user-item interaction matrix (rows = users, columns = items)\n",
        "# 1 means liked/swapped\n",
        "interactions = np.array([\n",
        "    [1, 0, 1, 0],  # User 0\n",
        "    [0, 1, 1, 0],  # User 1\n",
        "    [1, 1, 0, 1],  # User 2\n",
        "])\n",
        "\n",
        "item_names = [\"Red Hoodie\", \"White Shirt\", \"Blue Jeans\", \"Summer Dress\"]\n",
        "item_descriptions = [\n",
        "    \"Casual red hoodie for winter wear\",\n",
        "    \"Formal white cotton shirt\",\n",
        "    \"Denim blue jeans, regular fit\",\n",
        "    \"Floral summer dress with light fabric\"\n",
        "]\n",
        "\n",
        "print(\"=== Collaborative Filtering Recommendations for User 0 ===\")\n",
        "model = NearestNeighbors(metric='cosine', algorithm='brute')\n",
        "model.fit(interactions)\n",
        "\n",
        "# Find nearest users to user 0\n",
        "user_id = 0\n",
        "_, neighbors = model.kneighbors([interactions[user_id]], n_neighbors=3)\n",
        "neighbor_ids = neighbors[0][1:]  # exclude self\n",
        "\n",
        "# Recommend items liked by neighbors but not by user 0\n",
        "recommended = set()\n",
        "for neighbor in neighbor_ids:\n",
        "    for idx, liked in enumerate(interactions[neighbor]):\n",
        "        if liked == 1 and interactions[user_id][idx] == 0:\n",
        "            recommended.add(item_names[idx])\n",
        "\n",
        "print(f\"Recommended from similar users: {list(recommended)}\")\n",
        "\n",
        "print(\"\\n=== Content-Based Filtering: Items Similar to 'Red Hoodie' ===\")\n",
        "vectorizer = TfidfVectorizer()\n",
        "tfidf_matrix = vectorizer.fit_transform(item_descriptions)\n",
        "\n",
        "cos_sim = (tfidf_matrix * tfidf_matrix[0].T).toarray()\n",
        "top_indices = np.argsort(cos_sim[:, 0])[::-1][1:3]\n",
        "\n",
        "print(\"Items similar to 'Red Hoodie':\")\n",
        "for i in top_indices:\n",
        "    print(\"-\", item_names[i])\n",
        "\n",
        "print(\"\\n=== Text-Based Recommendation: Query 'I like hoodies and winter wear' ===\")\n",
        "query = \"I like hoodies and winter wear\"\n",
        "embedder = SentenceTransformer('all-MiniLM-L6-v2')\n",
        "\n",
        "query_vec = embedder.encode(query, convert_to_tensor=True)\n",
        "item_vecs = embedder.encode(item_descriptions, convert_to_tensor=True)\n",
        "\n",
        "cos_scores = util.pytorch_cos_sim(query_vec, item_vecs)[0]\n",
        "top_query_idx = cos_scores.argsort(descending=True)[:3]\n",
        "\n",
        "print(\"Top matches for query:\")\n",
        "for i in top_query_idx:\n",
        "    print(f\"- {item_names[i]} (score: {cos_scores[i]:.2f})\")\n"
      ]
    }
  ]
}